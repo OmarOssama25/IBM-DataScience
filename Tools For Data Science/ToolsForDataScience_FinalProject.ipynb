{
 "cells": [
  {
   "cell_type": "markdown",
   "metadata": {},
   "source": [
    "<center>\n",
    "    <img src=\"https://cf-courses-data.s3.us.cloud-object-storage.appdomain.cloud/IBMDeveloperSkillsNetwork-DS0105EN-SkillsNetwork/labs/Module2/images/SN_web_lightmode.png\" width=\"300\" alt=\"cognitiveclass.ai logo\">\n",
    "</center>\n"
   ]
  },
  {
   "cell_type": "markdown",
   "metadata": {},
   "source": [
    "#### Add your code below following the instructions given in the course\n"
   ]
  },
  {
   "cell_type": "markdown",
   "metadata": {
    "tags": []
   },
   "source": [
    "<h1>Tools For Data Science</h1>"
   ]
  },
  {
   "cell_type": "markdown",
   "metadata": {
    "tags": []
   },
   "source": [
    "In this notebook we will be talking about Data Science basics"
   ]
  },
  {
   "cell_type": "markdown",
   "metadata": {},
   "source": [
    "<h2>data science languages:</h2>\n",
    "\n",
    "1-Python\n",
    "\n",
    "2-R\n",
    "\n",
    "3-Java\n",
    "\n",
    "4-Javascript\n",
    "\n",
    "5-SQL\n",
    "\n",
    "6-Julia"
   ]
  },
  {
   "cell_type": "markdown",
   "metadata": {},
   "source": [
    "<h2>data science libraries:</h2>\n",
    "\n",
    "1-TensorFlow\n",
    "\n",
    "2-NumPy\n",
    "\n",
    "3-Pandas\n",
    "\n",
    "4-PyTorch\n",
    "\n",
    "5-SQL"
   ]
  },
  {
   "cell_type": "markdown",
   "metadata": {},
   "source": [
    "| Data Science tools | \n",
    "|----------|\n",
    "| Anaconda | \n",
    "| git  | \n",
    "|Tableau|\n",
    "|Apache Spark|\n",
    "|RStudio|\n"
   ]
  },
  {
   "cell_type": "markdown",
   "metadata": {},
   "source": [
    "<h2>Arithmetic Expressions :</h2>\n",
    "\n",
    "Addition -> a + b\n",
    "\n",
    "Subtraction -> a - b\n",
    "\n",
    "Multiplication -> a * b\n",
    "\n",
    "Division -> a / b\n",
    "\n",
    "Modulo -> a % b \n",
    "\n",
    "Exponentiation -> a ** b"
   ]
  },
  {
   "cell_type": "markdown",
   "metadata": {},
   "source": [
    "<h2>Multiply and add numbers</h2>"
   ]
  },
  {
   "cell_type": "code",
   "execution_count": 9,
   "metadata": {
    "tags": []
   },
   "outputs": [
    {
     "name": "stdout",
     "output_type": "stream",
     "text": [
      "add : 29  sub : 27 mul : 40\n"
     ]
    }
   ],
   "source": [
    "n1 = 20\n",
    "n2 = 7\n",
    "n3 = 2\n",
    "\n",
    "add = n1 + n2 + n3 \n",
    "sub = add - n3\n",
    "mul = n1 * n3\n",
    "print(\"add :\",add,\" sub :\", sub,\"mul :\", mul)"
   ]
  },
  {
   "cell_type": "markdown",
   "metadata": {},
   "source": [
    "<h2>Convert minutes to hours</h2>"
   ]
  },
  {
   "cell_type": "code",
   "execution_count": 10,
   "metadata": {
    "tags": []
   },
   "outputs": [
    {
     "name": "stdout",
     "output_type": "stream",
     "text": [
      "12.5\n"
     ]
    }
   ],
   "source": [
    "minutes = 750\n",
    "seconds = 60 \n",
    "\n",
    "total = minutes / seconds\n",
    "print(total)"
   ]
  },
  {
   "cell_type": "markdown",
   "metadata": {},
   "source": [
    "<h2>List Objectives</h2>\n",
    "\n",
    "1-List popular languages for Data Science\n",
    "\n",
    "2-List popular libraries for Data Science\n",
    "\n",
    "3- List Data Science Tools\n",
    "\n",
    "4-Arithmetic Expression\n",
    "\n",
    "5-Convert Minutes to Hours\n"
   ]
  },
  {
   "cell_type": "markdown",
   "metadata": {
    "tags": []
   },
   "source": [
    "<h1>Author: Omar Ossama</h1>"
   ]
  }
 ],
 "metadata": {
  "kernelspec": {
   "display_name": "Python",
   "language": "python",
   "name": "conda-env-python-py"
  },
  "language_info": {
   "codemirror_mode": {
    "name": "ipython",
    "version": 3
   },
   "file_extension": ".py",
   "mimetype": "text/x-python",
   "name": "python",
   "nbconvert_exporter": "python",
   "pygments_lexer": "ipython3",
   "version": "3.7.12"
  }
 },
 "nbformat": 4,
 "nbformat_minor": 4
}
